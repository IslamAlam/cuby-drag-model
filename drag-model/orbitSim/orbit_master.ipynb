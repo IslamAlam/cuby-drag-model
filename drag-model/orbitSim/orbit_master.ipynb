{
 "cells": [
  {
   "cell_type": "code",
   "execution_count": 1,
   "metadata": {},
   "outputs": [],
   "source": [
    "from orbit_decay_num_sim_v5 import orbit\n",
    "import numpy as np\n",
    "from decimal import Decimal as D\n",
    "import matplotlib.pyplot as plt\n",
    "import pandas as pd"
   ]
  },
  {
   "cell_type": "code",
   "execution_count": 2,
   "metadata": {},
   "outputs": [],
   "source": [
    "init_alt = 408000\t\t# Initial altitude, m"
   ]
  },
  {
   "cell_type": "code",
   "execution_count": 3,
   "metadata": {},
   "outputs": [],
   "source": [
    "r_earth = D(np.average([6378137, 6356752]))  \t# Radius of Earth, m\n",
    "G = D(6.67*10**-11)  \t\t\t\t\t\t\t# Gravitational constant\n",
    "mass_earth = D(5.972*10**24)  \t\t\t\t\t# Earth mass, kg\n",
    "mu = G*mass_earth  \t\t\t\t\t\t\t\t# Specific gravitational constant of Earth\n",
    "circ_vel = np.sqrt(mu/(r_earth + init_alt))"
   ]
  },
  {
   "cell_type": "code",
   "execution_count": 4,
   "metadata": {},
   "outputs": [],
   "source": [
    "init_vel = circ_vel\t- 5\t# Initial velocity, m/s"
   ]
  },
  {
   "cell_type": "code",
   "execution_count": 5,
   "metadata": {
    "lines_to_next_cell": 2
   },
   "outputs": [],
   "source": [
    "C_D = 2.2\t\t\t\t# Drag coefficient (2.2 is assumed constant by Jacchia 70)\n",
    "t_step = 1000\t\t\t# Time step, s"
   ]
  },
  {
   "cell_type": "code",
   "execution_count": 6,
   "metadata": {},
   "outputs": [],
   "source": [
    "masses = [4.0]\t\t\t\t\t\t# A range of reasonable masses for a 3U cubesat\n",
    "area_refs = [0.0233]\t\t\t\t\t# A range of cross-sectional areas for a (tumbling) 3U cubesat"
   ]
  },
  {
   "cell_type": "code",
   "execution_count": 7,
   "metadata": {},
   "outputs": [],
   "source": [
    "dict = {}"
   ]
  },
  {
   "cell_type": "code",
   "execution_count": 8,
   "metadata": {
    "lines_to_next_cell": 2
   },
   "outputs": [
    {
     "name": "stdout",
     "output_type": "stream",
     "text": [
      "\n",
      "\n",
      "Deorbiting a 4kg cubesat of ref. area 233 cm^2\n",
      "Time: 8678000.0      Min Altitude: 140154.3"
     ]
    }
   ],
   "source": [
    "for i in range(len(masses)):\n",
    "\tfor j in range(len(area_refs)):\n",
    "\t\tdict_kword = str(int(masses[i])) + \"kg_\" + str(int(area_refs[j]*10000)) + \"cm2\"\n",
    "\t\trun_name = \"deorbit_\" + dict_kword\n",
    "\t\t\n",
    "\t\tmass_sat = masses[i]\n",
    "\t\tA_ref = area_refs[j]\n",
    "\n",
    "\t\ttime, altitude = orbit(init_alt, init_vel, C_D, A_ref, mass_sat, t_step, drag_on=True, circular_orbit=False, error_testing=False, num_orbits=100000)\n",
    "\t\t\n",
    "\t\tdf = pd.DataFrame([time, altitude]).transpose()\n",
    "\t\t#df.columns = ['time', 'altitude', 'radius', 'radial_vel', 'true_anomoly', 'ang_vel']\n",
    "\t\tdf.columns = ['time (s)', 'altitude (m)']\n",
    "\t\tdf.to_csv(run_name+\".csv\", index=False)\n",
    "\n",
    "\t\tdict[dict_kword] = (time, altitude, mass_sat, A_ref)"
   ]
  },
  {
   "cell_type": "code",
   "execution_count": 9,
   "metadata": {},
   "outputs": [],
   "source": [
    "fig_no = 0\n",
    "colors = ['blue', 'green', 'red', 'orange']"
   ]
  },
  {
   "cell_type": "code",
   "execution_count": 10,
   "metadata": {},
   "outputs": [
    {
     "name": "stderr",
     "output_type": "stream",
     "text": [
      "/opt/conda/lib/python3.7/site-packages/matplotlib/backends/backend_agg.py:211: RuntimeWarning: Glyph 9 missing from current font.\n",
      "  font.set_text(s, 0.0, flags=flags)\n",
      "/opt/conda/lib/python3.7/site-packages/matplotlib/backends/backend_agg.py:180: RuntimeWarning: Glyph 9 missing from current font.\n",
      "  font.set_text(s, 0, flags=flags)\n"
     ]
    },
    {
     "data": {
      "image/png": "[encoded data removed]",
      "text/plain": [
       "<Figure size 432x288 with 1 Axes>"
      ]
     },
     "metadata": {
      "needs_background": "light"
     },
     "output_type": "display_data"
    }
   ],
   "source": [
    "for i in masses:\n",
    "\tfig_no += 1\n",
    "\tplt.figure(fig_no)\n",
    "\tkwords = []\n",
    "\n",
    "\tfor j in dict.keys():\n",
    "\t\tif j.find(str(int(i))+\"kg\") == 0:\n",
    "\t\t\tkwords.append(j)\n",
    "\n",
    "\tfor j in kwords:\n",
    "\t\tplt.plot(dict.get(j)[0]/(2400*24), dict.get(j)[1]/1000)\n",
    "\n",
    "\tstr_title = \"Satellite Altitude Decay for Varying Reference Areas\\n\" + str(i) + \" kg CubeSat\\t\\tTime Step = \" + str(t_step) + \" sec.\"\n",
    "\tplt.title(str_title)\n",
    "\tplt.xlabel(\"Time (days)\")\n",
    "\tplt.ylabel(\"Altitude (km)\")\n",
    "\tplt.legend([str(int(i*10000)) + \" cm$^2$\" for i in area_refs], loc='upper right')"
   ]
  },
  {
   "cell_type": "code",
   "execution_count": 11,
   "metadata": {},
   "outputs": [],
   "source": []
  },
  {
   "cell_type": "code",
   "execution_count": null,
   "metadata": {},
   "outputs": [],
   "source": []
  }
 ],
 "metadata": {
  "jupytext": {
   "cell_metadata_filter": "-all",
   "notebook_metadata_filter": "-all",
   "text_representation": {
    "extension": ".py",
    "format_name": "light"
   }
  },
  "kernelspec": {
   "display_name": "Python 3",
   "language": "python",
   "name": "python3"
  },
  "language_info": {
   "codemirror_mode": {
    "name": "ipython",
    "version": 3
   },
   "file_extension": ".py",
   "mimetype": "text/x-python",
   "name": "python",
   "nbconvert_exporter": "python",
   "pygments_lexer": "ipython3",
   "version": "3.7.5"
  }
 },
 "nbformat": 4,
 "nbformat_minor": 4
}
